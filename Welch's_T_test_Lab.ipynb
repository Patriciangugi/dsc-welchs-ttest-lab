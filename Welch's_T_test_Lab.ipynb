{
  "nbformat": 4,
  "nbformat_minor": 0,
  "metadata": {
    "colab": {
      "provenance": [],
      "authorship_tag": "ABX9TyN4ubsXpvqHtFhJVOVu3CyS",
      "include_colab_link": true
    },
    "kernelspec": {
      "name": "python3",
      "display_name": "Python 3"
    },
    "language_info": {
      "name": "python"
    }
  },
  "cells": [
    {
      "cell_type": "markdown",
      "metadata": {
        "id": "view-in-github",
        "colab_type": "text"
      },
      "source": [
        "<a href=\"https://colab.research.google.com/github/Patriciangugi/dsc-welchs-ttest-lab/blob/master/Welch's_T_test_Lab.ipynb\" target=\"_parent\"><img src=\"https://colab.research.google.com/assets/colab-badge.svg\" alt=\"Open In Colab\"/></a>"
      ]
    },
    {
      "cell_type": "code",
      "execution_count": 1,
      "metadata": {
        "id": "fkvRQRVcZ6wf"
      },
      "outputs": [],
      "source": [
        "import numpy as np\n",
        "\n",
        "np.random.seed(82)\n",
        "control = np.random.normal(loc=10, scale=1, size=8)\n",
        "treatment = np.random.normal(loc=10.5, scale=1.2, size=12)"
      ]
    },
    {
      "cell_type": "code",
      "source": [
        "control"
      ],
      "metadata": {
        "colab": {
          "base_uri": "https://localhost:8080/"
        },
        "id": "Fo-Djo8_aAPT",
        "outputId": "e951a6c4-0294-41f4-9620-849fe13a5d14"
      },
      "execution_count": 2,
      "outputs": [
        {
          "output_type": "execute_result",
          "data": {
            "text/plain": [
              "array([10.8406504 ,  8.64285284, 11.28693651, 10.57347539, 10.57945015,\n",
              "        9.97237817,  9.61844717,  9.69121804])"
            ]
          },
          "metadata": {},
          "execution_count": 2
        }
      ]
    },
    {
      "cell_type": "code",
      "source": [
        "treatment"
      ],
      "metadata": {
        "colab": {
          "base_uri": "https://localhost:8080/"
        },
        "id": "cpI1BJ5AaATT",
        "outputId": "0a2039c2-8205-4201-cdd1-4e95918273b0"
      },
      "execution_count": 3,
      "outputs": [
        {
          "output_type": "execute_result",
          "data": {
            "text/plain": [
              "array([12.16530726, 12.5597993 , 11.76525366,  9.82399228, 11.03539891,\n",
              "       12.8992533 , 10.78680718, 11.71126641, 10.2343344 ,  9.77839837,\n",
              "        9.72938618, 10.39959928])"
            ]
          },
          "metadata": {},
          "execution_count": 3
        }
      ]
    },
    {
      "cell_type": "code",
      "source": [
        "def welch_t(a, b):\n",
        "\n",
        "    \"\"\" Calculate Welch's t-statistic for two samples. \"\"\"\n",
        "\n",
        "\n",
        "    return # Return the t-score!\n",
        "\n",
        "welch_t(control, treatment)\n",
        "# 2.0997990691576858"
      ],
      "metadata": {
        "id": "oVRSCt5UaAXA"
      },
      "execution_count": 4,
      "outputs": []
    },
    {
      "cell_type": "code",
      "source": [
        "def welch_df(a, b):\n",
        "\n",
        "    \"\"\" Calculate the effective degrees of freedom for two samples. \"\"\"\n",
        "    return # Return the degrees of freedom\n",
        "\n",
        "welch_df(control, treatment)\n",
        "# 17.673079085111"
      ],
      "metadata": {
        "id": "nlSYr047aAau"
      },
      "execution_count": 5,
      "outputs": []
    },
    {
      "cell_type": "code",
      "source": [
        "# Function to calculate the effective degrees of freedom\n",
        "def welch_df(a, b):\n",
        "    \"\"\" Calculate the effective degrees of freedom for two samples. \"\"\"\n",
        "    s1 = np.var(a, ddof=1)\n",
        "    s2 = np.var(b, ddof=1)\n",
        "    N1 = len(a)\n",
        "    N2 = len(b)\n",
        "    v1 = N1 - 1\n",
        "    v2 = N2 - 1\n",
        "    numerator = (s1/N1 + s2/N2)**2\n",
        "    denominator = (s1**2 / (N1**2 * v1)) + (s2**2 / (N2**2 * v2))\n",
        "    return numerator / denominator\n",
        "\n",
        "# Example samples\n",
        "control = [20.1, 21.2, 19.8, 20.5, 20.7]\n",
        "treatment = [22.0, 22.2, 21.9, 22.1, 22.3]\n",
        "\n",
        "# Calculate the t-score and degrees of freedom\n",
        "t = welch_t(control, treatment)\n",
        "df = welch_df(control, treatment)\n",
        "print(t, df)"
      ],
      "metadata": {
        "colab": {
          "base_uri": "https://localhost:8080/"
        },
        "id": "_4igQrJDaAde",
        "outputId": "c8a336d4-b212-422f-9c1b-c0cfdbf394e2"
      },
      "execution_count": 6,
      "outputs": [
        {
          "output_type": "stream",
          "name": "stdout",
          "text": [
            "None 4.677660337211192\n"
          ]
        }
      ]
    },
    {
      "cell_type": "code",
      "source": [
        "# Function to calculate Welch's t-score\n",
        "def welch_t(a, b):\n",
        "    \"\"\" Calculate Welch's t-score for two samples. \"\"\"\n",
        "    numerator = np.mean(a) - np.mean(b)\n",
        "    denominator = np.sqrt(np.var(a, ddof=1)/len(a) + np.var(b, ddof=1)/len(b))\n",
        "    return numerator / denominator\n",
        "\n",
        "# Function to calculate the effective degrees of freedom\n",
        "def welch_df(a, b):\n",
        "    \"\"\" Calculate the effective degrees of freedom for two samples. \"\"\"\n",
        "    s1 = np.var(a, ddof=1)\n",
        "    s2 = np.var(b, ddof=1)\n",
        "    N1 = len(a)\n",
        "    N2 = len(b)\n",
        "    v1 = N1 - 1\n",
        "    v2 = N2 - 1\n",
        "    numerator = (s1/N1 + s2/N2)**2\n",
        "    denominator = (s1**2 / (N1**2 * v1)) + (s2**2 / (N2**2 * v2))\n",
        "    return numerator / denominator\n",
        "\n",
        "# Example samples\n",
        "control = [20.1, 21.2, 19.8, 20.5, 20.7]\n",
        "treatment = [22.0, 22.2, 21.9, 22.1, 22.3]\n",
        "\n",
        "# Calculate the t-score and degrees of freedom\n",
        "t = welch_t(control, treatment)\n",
        "df = welch_df(control, treatment)\n",
        "\n",
        "# Import the required module\n",
        "import scipy.stats as stats\n",
        "\n",
        "# Calculate the one-sided p-value\n",
        "p = 1 - stats.t.cdf(t, df)\n",
        "print(p)"
      ],
      "metadata": {
        "colab": {
          "base_uri": "https://localhost:8080/"
        },
        "id": "_c6xiECRa70A",
        "outputId": "c9db7677-1b5c-4cba-b863-83d40848165b"
      },
      "execution_count": 8,
      "outputs": [
        {
          "output_type": "stream",
          "name": "stdout",
          "text": [
            "0.999176449502292\n"
          ]
        }
      ]
    },
    {
      "cell_type": "code",
      "source": [
        "def p_value(a, b, two_sided=False):\n",
        "    \"\"\" Calculate the p-value for two samples using Welch's t-test. \"\"\"\n",
        "    t = welch_t(a, b)\n",
        "    df = welch_df(a, b)\n",
        "    p = 1 - stats.t.cdf(t, df)\n",
        "    if two_sided:\n",
        "        p *= 2\n",
        "    return p"
      ],
      "metadata": {
        "id": "DgXtakApa75A"
      },
      "execution_count": 10,
      "outputs": []
    },
    {
      "cell_type": "code",
      "source": [
        "# Example samples\n",
        "control = [20.1, 21.2, 19.8, 20.5, 20.7]\n",
        "treatment = [22.0, 22.2, 21.9, 22.1, 22.3]\n",
        "\n",
        "# Calculate the p-value for one-sided and two-sided tests\n",
        "p_one_sided = p_value(control, treatment)\n",
        "\n",
        "print(f\"One-sided p-value: {p_one_sided}\")"
      ],
      "metadata": {
        "colab": {
          "base_uri": "https://localhost:8080/"
        },
        "id": "l3cYF0LFa78o",
        "outputId": "27a85924-710c-444b-e148-e55136959f2e"
      },
      "execution_count": 13,
      "outputs": [
        {
          "output_type": "stream",
          "name": "stdout",
          "text": [
            "One-sided p-value: 0.999176449502292\n"
          ]
        }
      ]
    },
    {
      "cell_type": "code",
      "source": [
        "# Example samples\n",
        "control = [20.1, 21.2, 19.8, 20.5, 20.7]\n",
        "treatment = [22.0, 22.2, 21.9, 22.1, 22.3]\n",
        "\n",
        "p_two_sided = p_value(control, treatment, two_sided=True)\n",
        "\n",
        "print(f\"Two-sided p-value: {p_two_sided}\")"
      ],
      "metadata": {
        "colab": {
          "base_uri": "https://localhost:8080/"
        },
        "id": "Tg99C4tkaAhC",
        "outputId": "9aaffcca-8ec0-4d29-889d-b194a8b87b7a"
      },
      "execution_count": 14,
      "outputs": [
        {
          "output_type": "stream",
          "name": "stdout",
          "text": [
            "Two-sided p-value: 1.998352899004584\n"
          ]
        }
      ]
    }
  ]
}